{
 "cells": [
  {
   "cell_type": "code",
   "execution_count": 10,
   "id": "fe4e1b64",
   "metadata": {},
   "outputs": [],
   "source": [
    "import torch\n",
    "from torch.utils.data import DataLoader, Dataset\n",
    "import numpy as np\n",
    "import glob\n",
    "import cv2\n",
    "import os"
   ]
  },
  {
   "cell_type": "code",
   "execution_count": 23,
   "id": "914c0581",
   "metadata": {},
   "outputs": [],
   "source": [
    "class CustomDataset(Dataset):\n",
    "    def __init__(self):\n",
    "        self.imgs_path = r\"dataset/\"\n",
    "        file_list = glob.glob(self.imgs_path + \"*\")\n",
    "        #print(f\"File list: {file_list}\")\n",
    "        \n",
    "        self.data = []\n",
    "        self.class_counts = {}\n",
    "        \n",
    "        for class_path in file_list:\n",
    "            class_name = os.path.basename(class_path)\n",
    "            img_paths = glob.glob(os.path.join(class_path, \"*.jpg\")) + glob.glob(os.path.join(class_path, \"*.jpeg\"))\n",
    "            self.class_counts[class_name] = len(img_paths)\n",
    "            for img_path in img_paths:\n",
    "                self.data.append([img_path, class_name])\n",
    "                \n",
    "        #self.data = [[img_path.replace(\"\\\\\", \"/\"), class_name] for img_path, class_name in self.data]\n",
    "\n",
    "        #print(self.data)\n",
    "        \n",
    "        self.class_map = {\"cataract\": 0, \"diabetic_retinopathy\": 1, \"glaucoma\": 2, \"normal\": 3}\n",
    "        self.img_dim = (416, 416)\n",
    "    \n",
    "    def __len__(self):\n",
    "        return len(self.data)\n",
    "        \n",
    "    \n",
    "    def __getitem__(self, idx):\n",
    "        img_path, class_name = self.data[idx]\n",
    "        img = cv2.imread(img_path)\n",
    "        img = cv2.resize(img, self.img_dim)\n",
    "        class_id = self.class_map[class_name]\n",
    "        img_tensor = torch.from_numpy(img)\n",
    "        img_tensor = img_tensor.permute(2,0,1)\n",
    "        class_id = torch.tensor([class_id])\n",
    "        return img_tensor, class_id\n",
    "    \n",
    "#CustomDataset()"
   ]
  },
  {
   "cell_type": "code",
   "execution_count": 17,
   "id": "0a6ce2c7",
   "metadata": {},
   "outputs": [
    {
     "name": "stdout",
     "output_type": "stream",
     "text": [
      "{'cataract': 938, 'diabetic_retinopathy': 1098, 'glaucoma': 906, 'normal': 1074}\n"
     ]
    }
   ],
   "source": [
    "dataset = CustomDataset()\n",
    "class_counts = dataset.class_counts\n",
    "print(class_counts)"
   ]
  },
  {
   "cell_type": "code",
   "execution_count": 8,
   "id": "30d274f7",
   "metadata": {},
   "outputs": [],
   "source": [
    "#if __name__ == \"__main__\":\n",
    "dataset = CustomDataset()\n",
    "dataloader = DataLoader(dataset, batch_size = 64, shuffle = True)"
   ]
  },
  {
   "cell_type": "code",
   "execution_count": 61,
   "id": "60781fad",
   "metadata": {},
   "outputs": [
    {
     "name": "stdout",
     "output_type": "stream",
     "text": [
      "Batch of images has shape:  torch.Size([3, 416, 416])\n"
     ]
    }
   ],
   "source": [
    "for imgs, labels in dataloader:\n",
    "    print(\"Batch of images has shape: \",imgs[0].shape)\n",
    "    break\n",
    "    print(\"Batch of labels has shape: \", labels[0].shape)"
   ]
  },
  {
   "cell_type": "code",
   "execution_count": 62,
   "id": "df44b3c9",
   "metadata": {},
   "outputs": [
    {
     "name": "stdout",
     "output_type": "stream",
     "text": [
      "Batch of labels has shape:  torch.Size([1])\n"
     ]
    }
   ],
   "source": [
    "for imgs, labels in dataloader:\n",
    "    print(\"Batch of labels has shape: \", labels[0].shape)\n",
    "    break"
   ]
  }
 ],
 "metadata": {
  "kernelspec": {
   "display_name": "Python 3 (ipykernel)",
   "language": "python",
   "name": "python3"
  },
  "language_info": {
   "codemirror_mode": {
    "name": "ipython",
    "version": 3
   },
   "file_extension": ".py",
   "mimetype": "text/x-python",
   "name": "python",
   "nbconvert_exporter": "python",
   "pygments_lexer": "ipython3",
   "version": "3.11.5"
  }
 },
 "nbformat": 4,
 "nbformat_minor": 5
}
