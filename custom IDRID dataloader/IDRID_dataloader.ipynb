{
  "nbformat": 4,
  "nbformat_minor": 0,
  "metadata": {
    "colab": {
      "provenance": []
    },
    "kernelspec": {
      "name": "python3",
      "display_name": "Python 3"
    },
    "language_info": {
      "name": "python"
    }
  },
  "cells": [
    {
      "cell_type": "code",
      "source": [
        "import torch\n",
        "import os\n",
        "import pandas as pd\n",
        "from torch.utils.data import Dataset, DataLoader\n",
        "from torchvision.io import read_image"
      ],
      "metadata": {
        "id": "nfqwHaG0byGG"
      },
      "execution_count": 4,
      "outputs": []
    },
    {
      "cell_type": "code",
      "source": [
        "from google.colab import drive\n",
        "drive.mount('/content/drive')"
      ],
      "metadata": {
        "id": "-9ObdUVSb0Vg",
        "colab": {
          "base_uri": "https://localhost:8080/"
        },
        "outputId": "2ddd807e-a057-42f5-a6f9-eb80dcdc9ceb"
      },
      "execution_count": 5,
      "outputs": [
        {
          "output_type": "stream",
          "name": "stdout",
          "text": [
            "Drive already mounted at /content/drive; to attempt to forcibly remount, call drive.mount(\"/content/drive\", force_remount=True).\n"
          ]
        }
      ]
    },
    {
      "cell_type": "code",
      "source": [
        "train_images = '/content/drive/MyDrive/B. Disease Grading/B. Disease Grading/1. Original Images/a. Training Set'\n",
        "test_images = '/content/drive/MyDrive/B. Disease Grading/B. Disease Grading/1. Original Images/b. Testing Set'\n",
        "train_labels = '/content/drive/MyDrive/B. Disease Grading/B. Disease Grading/2. Groundtruths/a. IDRiD_Disease Grading_Training Labels.csv'\n",
        "test_labels = '/content/drive/MyDrive/B. Disease Grading/B. Disease Grading/2. Groundtruths/b. IDRiD_Disease Grading_Testing Labels.csv'"
      ],
      "metadata": {
        "id": "HFoGEiRgb0Xa"
      },
      "execution_count": 6,
      "outputs": []
    },
    {
      "cell_type": "code",
      "source": [
        "class customIDRIDdataset(Dataset):\n",
        "  def __init__(self, image_dir, labels_file, transform=None, target_transform=None, file_extension=\".jpg\"):\n",
        "    self.image_dir = image_dir\n",
        "    self.labels_file = pd.read_csv(labels_file)\n",
        "    self.transform = transform  # to modify the features\n",
        "    self.target_transform = target_transform # to modify the labels\n",
        "    self.file_extension = file_extension\n",
        "\n",
        "  def __len__(self):\n",
        "    return len(self.labels_file)\n",
        "\n",
        "  def __getitem__(self, idx):\n",
        "    image_name = self.labels_file.iloc[idx, 0]\n",
        "    #image_path = os.path.join(self.image_dir, self.labels_file.iloc[idx, 0]) + self.file_extension\n",
        "    #image = read_image(image_path)\n",
        "    label = self.labels_file.iloc[idx, 1]\n",
        "    if self.transform:\n",
        "      image = self.transform(image)\n",
        "    if self.target_transform:\n",
        "      label = self.target_transform(label)\n",
        "    return image_name, label"
      ],
      "metadata": {
        "id": "yBTopG05b0Zw"
      },
      "execution_count": 20,
      "outputs": []
    },
    {
      "cell_type": "code",
      "source": [
        "dataset = customIDRIDdataset(train_images, train_labels)\n",
        "for i in range(5):\n",
        "    image_name , label = dataset[i]\n",
        "    print(f\"Image: {image_name}, Label: {label}\")"
      ],
      "metadata": {
        "id": "-_EYK-Yob0eZ",
        "colab": {
          "base_uri": "https://localhost:8080/"
        },
        "outputId": "a37cb68b-c5bd-4ab5-9aa1-d372635f6cc4"
      },
      "execution_count": 21,
      "outputs": [
        {
          "output_type": "stream",
          "name": "stdout",
          "text": [
            "Image: IDRiD_001, Label: 3\n",
            "Image: IDRiD_002, Label: 3\n",
            "Image: IDRiD_003, Label: 2\n",
            "Image: IDRiD_004, Label: 3\n",
            "Image: IDRiD_005, Label: 4\n"
          ]
        }
      ]
    }
  ]
}