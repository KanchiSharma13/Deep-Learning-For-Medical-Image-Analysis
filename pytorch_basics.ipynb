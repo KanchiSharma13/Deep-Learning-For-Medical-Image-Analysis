{
  "nbformat": 4,
  "nbformat_minor": 0,
  "metadata": {
    "colab": {
      "provenance": [],
      "gpuType": "T4"
    },
    "kernelspec": {
      "name": "python3",
      "display_name": "Python 3"
    },
    "language_info": {
      "name": "python"
    },
    "accelerator": "GPU"
  },
  "cells": [
    {
      "cell_type": "code",
      "execution_count": null,
      "metadata": {
        "id": "RpusHN8uSCR0"
      },
      "outputs": [],
      "source": [
        "import torch\n",
        "from torch import nn\n",
        "from torch.utils.data import DataLoader\n",
        "from torchvision import datasets\n",
        "from torchvision.transforms import ToTensor"
      ]
    },
    {
      "cell_type": "code",
      "source": [
        "# Download training data from open datasets.\n",
        "training_data = datasets.FashionMNIST(\n",
        "    root=\"data\",\n",
        "    train=True,\n",
        "    download=True,\n",
        "    transform=ToTensor(),\n",
        ")\n",
        "\n",
        "# Download test data from open datasets.\n",
        "test_data = datasets.FashionMNIST(\n",
        "    root=\"data\",\n",
        "    train=False,\n",
        "    download=True,\n",
        "    transform=ToTensor(),\n",
        ")"
      ],
      "metadata": {
        "colab": {
          "base_uri": "https://localhost:8080/"
        },
        "id": "n-MM33C9VnSo",
        "outputId": "ad15bf99-d46b-48d1-94d3-f612fe405522"
      },
      "execution_count": null,
      "outputs": [
        {
          "output_type": "stream",
          "name": "stdout",
          "text": [
            "Downloading http://fashion-mnist.s3-website.eu-central-1.amazonaws.com/train-images-idx3-ubyte.gz\n",
            "Downloading http://fashion-mnist.s3-website.eu-central-1.amazonaws.com/train-images-idx3-ubyte.gz to data/FashionMNIST/raw/train-images-idx3-ubyte.gz\n"
          ]
        },
        {
          "output_type": "stream",
          "name": "stderr",
          "text": [
            "100%|██████████| 26421880/26421880 [00:02<00:00, 12723759.10it/s]\n"
          ]
        },
        {
          "output_type": "stream",
          "name": "stdout",
          "text": [
            "Extracting data/FashionMNIST/raw/train-images-idx3-ubyte.gz to data/FashionMNIST/raw\n",
            "\n",
            "Downloading http://fashion-mnist.s3-website.eu-central-1.amazonaws.com/train-labels-idx1-ubyte.gz\n",
            "Downloading http://fashion-mnist.s3-website.eu-central-1.amazonaws.com/train-labels-idx1-ubyte.gz to data/FashionMNIST/raw/train-labels-idx1-ubyte.gz\n"
          ]
        },
        {
          "output_type": "stream",
          "name": "stderr",
          "text": [
            "100%|██████████| 29515/29515 [00:00<00:00, 203502.90it/s]\n"
          ]
        },
        {
          "output_type": "stream",
          "name": "stdout",
          "text": [
            "Extracting data/FashionMNIST/raw/train-labels-idx1-ubyte.gz to data/FashionMNIST/raw\n",
            "\n",
            "Downloading http://fashion-mnist.s3-website.eu-central-1.amazonaws.com/t10k-images-idx3-ubyte.gz\n",
            "Downloading http://fashion-mnist.s3-website.eu-central-1.amazonaws.com/t10k-images-idx3-ubyte.gz to data/FashionMNIST/raw/t10k-images-idx3-ubyte.gz\n"
          ]
        },
        {
          "output_type": "stream",
          "name": "stderr",
          "text": [
            "100%|██████████| 4422102/4422102 [00:01<00:00, 3757545.70it/s]\n"
          ]
        },
        {
          "output_type": "stream",
          "name": "stdout",
          "text": [
            "Extracting data/FashionMNIST/raw/t10k-images-idx3-ubyte.gz to data/FashionMNIST/raw\n",
            "\n",
            "Downloading http://fashion-mnist.s3-website.eu-central-1.amazonaws.com/t10k-labels-idx1-ubyte.gz\n",
            "Downloading http://fashion-mnist.s3-website.eu-central-1.amazonaws.com/t10k-labels-idx1-ubyte.gz to data/FashionMNIST/raw/t10k-labels-idx1-ubyte.gz\n"
          ]
        },
        {
          "output_type": "stream",
          "name": "stderr",
          "text": [
            "100%|██████████| 5148/5148 [00:00<00:00, 17963624.79it/s]"
          ]
        },
        {
          "output_type": "stream",
          "name": "stdout",
          "text": [
            "Extracting data/FashionMNIST/raw/t10k-labels-idx1-ubyte.gz to data/FashionMNIST/raw\n",
            "\n"
          ]
        },
        {
          "output_type": "stream",
          "name": "stderr",
          "text": [
            "\n"
          ]
        }
      ]
    },
    {
      "cell_type": "code",
      "source": [
        "batch_size = 64\n",
        "\n",
        "# Create data loaders.\n",
        "train_dataloader = DataLoader(training_data, batch_size=batch_size)\n",
        "test_dataloader = DataLoader(test_data, batch_size=batch_size)\n",
        "\n",
        "for X, y in test_dataloader:              #X is input data and y is corresponding labels\n",
        "    print(f\"Shape of X [N, C, H, W]: {X.shape}\")  #N is batch size,C is channel 3 for rgb 1 for grayscale, H height, W weight\n",
        "    print(f\"Shape of y: {y.shape} {y.dtype}\")\n",
        "    break"
      ],
      "metadata": {
        "colab": {
          "base_uri": "https://localhost:8080/"
        },
        "id": "StBPUIiDWOEr",
        "outputId": "e16deffd-e8a1-4a05-ea20-fe4f8000d006"
      },
      "execution_count": null,
      "outputs": [
        {
          "output_type": "stream",
          "name": "stdout",
          "text": [
            "Shape of X [N, C, H, W]: torch.Size([64, 1, 28, 28])\n",
            "Shape of y: torch.Size([64]) torch.int64\n"
          ]
        }
      ]
    },
    {
      "cell_type": "code",
      "source": [
        "# Get cpu, gpu or mps device for training.\n",
        "#automatically selects best available device for better performance\n",
        "device = (\n",
        "    \"cuda\"\n",
        "    if torch.cuda.is_available()\n",
        "    else \"mps\"\n",
        "    if torch.backends.mps.is_available()\n",
        "    else \"cpu\"\n",
        ")\n",
        "print(f\"Using {device} device\")\n",
        "\n",
        "# Define model\n",
        "class NeuralNetwork(nn.Module):\n",
        "    def __init__(self):\n",
        "        super().__init__()            # Calling parent class constructor\n",
        "        self.flatten = nn.Flatten()   #input layer of nn. flattens the 28*28 pixel image into 1d 784 array\n",
        "        self.linear_relu_stack = nn.Sequential(\n",
        "            nn.Linear(28*28, 800),    # linear part of first hidden layer\n",
        "            nn.ReLU(),                # non linearity added to the first hidden layer\n",
        "            nn.Linear(800, 512),      #512 input neurons 512 output neurons\n",
        "            nn.ReLU(),\n",
        "            nn.Linear(512, 10)        #output layer with 10 classes of fashionmnist dataset\n",
        "        )\n",
        "\n",
        "    def forward(self, x):             #how data is passed\n",
        "        x = self.flatten(x)\n",
        "        logits = self.linear_relu_stack(x)\n",
        "        return logits\n",
        "\n",
        "model = NeuralNetwork().to(device)\n",
        "print(model)"
      ],
      "metadata": {
        "colab": {
          "base_uri": "https://localhost:8080/"
        },
        "id": "11fuTtVHWPLm",
        "outputId": "7f03e9b6-ddc9-4ef9-c5d1-a2bd285bac84"
      },
      "execution_count": null,
      "outputs": [
        {
          "output_type": "stream",
          "name": "stdout",
          "text": [
            "Using cuda device\n",
            "NeuralNetwork(\n",
            "  (flatten): Flatten(start_dim=1, end_dim=-1)\n",
            "  (linear_relu_stack): Sequential(\n",
            "    (0): Linear(in_features=784, out_features=800, bias=True)\n",
            "    (1): ReLU()\n",
            "    (2): Linear(in_features=800, out_features=512, bias=True)\n",
            "    (3): ReLU()\n",
            "    (4): Linear(in_features=512, out_features=10, bias=True)\n",
            "  )\n",
            ")\n"
          ]
        }
      ]
    },
    {
      "cell_type": "code",
      "source": [
        "loss_fn = nn.CrossEntropyLoss()\n",
        "optimizer = torch.optim.Adam(model.parameters(), lr=1e-3)"
      ],
      "metadata": {
        "id": "jeKxivkkBZmH"
      },
      "execution_count": null,
      "outputs": []
    },
    {
      "cell_type": "code",
      "source": [
        "def train(dataloader, model, loss_fn, optimizer):\n",
        "    size = len(dataloader.dataset)\n",
        "    model.train()\n",
        "    for batch, (X, y) in enumerate(dataloader):      #batch is batch index\n",
        "        X, y = X.to(device), y.to(device)\n",
        "\n",
        "        # Compute prediction error\n",
        "        pred = model(X)\n",
        "        loss = loss_fn(pred, y)\n",
        "\n",
        "        # Backpropagation\n",
        "        loss.backward()  #computes the gradients\n",
        "        optimizer.step()  #updates the model parameters\n",
        "        optimizer.zero_grad() #clears the gradients of all optimized parameters to prepare for the next iteration.\n",
        "\n",
        "        if batch % 100 == 0:\n",
        "            loss, current = loss.item(), (batch + 1) * len(X)  #gives the total number of samples processed up to and including the current batch.\n",
        "            print(f\"loss: {loss:>7f}  [{current:>5d}/{size:>5d}]\")"
      ],
      "metadata": {
        "id": "oSkRThvqD8M_"
      },
      "execution_count": null,
      "outputs": []
    },
    {
      "cell_type": "code",
      "source": [
        "def test(dataloader, model, loss_fn):\n",
        "    size = len(dataloader.dataset)\n",
        "    num_batches = len(dataloader)\n",
        "    model.eval()\n",
        "    test_loss, correct = 0, 0\n",
        "    with torch.no_grad():\n",
        "        for X, y in dataloader:\n",
        "            X, y = X.to(device), y.to(device)\n",
        "            pred = model(X)\n",
        "            test_loss += loss_fn(pred, y).item()\n",
        "            correct += (pred.argmax(1) == y).type(torch.float).sum().item()\n",
        "    test_loss /= num_batches\n",
        "    correct /= size\n",
        "    print(f\"Test Error: \\n Accuracy: {(100*correct):>0.1f}%, Avg loss: {test_loss:>8f} \\n\")"
      ],
      "metadata": {
        "id": "en39xUgUD_Vu"
      },
      "execution_count": null,
      "outputs": []
    },
    {
      "cell_type": "code",
      "source": [
        "epochs = 5\n",
        "for t in range(epochs):\n",
        "    print(f\"Epoch {t+1}\\n-------------------------------\")\n",
        "    train(train_dataloader, model, loss_fn, optimizer)\n",
        "    test(test_dataloader, model, loss_fn)\n",
        "print(\"Done!\")"
      ],
      "metadata": {
        "colab": {
          "base_uri": "https://localhost:8080/"
        },
        "id": "3wBmlaPAEBSD",
        "outputId": "37954dca-de04-4812-e97c-b0a86a4c1519"
      },
      "execution_count": null,
      "outputs": [
        {
          "output_type": "stream",
          "name": "stdout",
          "text": [
            "Epoch 1\n",
            "-------------------------------\n",
            "loss: 2.301562  [   64/60000]\n",
            "loss: 0.525709  [ 6464/60000]\n",
            "loss: 0.387602  [12864/60000]\n",
            "loss: 0.472494  [19264/60000]\n",
            "loss: 0.462032  [25664/60000]\n",
            "loss: 0.425779  [32064/60000]\n",
            "loss: 0.363856  [38464/60000]\n",
            "loss: 0.533242  [44864/60000]\n",
            "loss: 0.473249  [51264/60000]\n",
            "loss: 0.475728  [57664/60000]\n",
            "Test Error: \n",
            " Accuracy: 84.0%, Avg loss: 0.426240 \n",
            "\n",
            "Epoch 2\n",
            "-------------------------------\n",
            "loss: 0.286592  [   64/60000]\n",
            "loss: 0.356743  [ 6464/60000]\n",
            "loss: 0.257698  [12864/60000]\n",
            "loss: 0.361727  [19264/60000]\n",
            "loss: 0.461772  [25664/60000]\n",
            "loss: 0.401063  [32064/60000]\n",
            "loss: 0.309983  [38464/60000]\n",
            "loss: 0.481428  [44864/60000]\n",
            "loss: 0.392749  [51264/60000]\n",
            "loss: 0.424855  [57664/60000]\n",
            "Test Error: \n",
            " Accuracy: 85.4%, Avg loss: 0.391965 \n",
            "\n",
            "Epoch 3\n",
            "-------------------------------\n",
            "loss: 0.232208  [   64/60000]\n",
            "loss: 0.337427  [ 6464/60000]\n",
            "loss: 0.217497  [12864/60000]\n",
            "loss: 0.300717  [19264/60000]\n",
            "loss: 0.364806  [25664/60000]\n",
            "loss: 0.347181  [32064/60000]\n",
            "loss: 0.274420  [38464/60000]\n",
            "loss: 0.442536  [44864/60000]\n",
            "loss: 0.320596  [51264/60000]\n",
            "loss: 0.365053  [57664/60000]\n",
            "Test Error: \n",
            " Accuracy: 86.4%, Avg loss: 0.372527 \n",
            "\n",
            "Epoch 4\n",
            "-------------------------------\n",
            "loss: 0.212672  [   64/60000]\n",
            "loss: 0.302597  [ 6464/60000]\n",
            "loss: 0.197722  [12864/60000]\n",
            "loss: 0.255741  [19264/60000]\n",
            "loss: 0.335851  [25664/60000]\n",
            "loss: 0.339237  [32064/60000]\n",
            "loss: 0.235159  [38464/60000]\n",
            "loss: 0.373380  [44864/60000]\n",
            "loss: 0.285553  [51264/60000]\n",
            "loss: 0.409700  [57664/60000]\n",
            "Test Error: \n",
            " Accuracy: 87.3%, Avg loss: 0.348887 \n",
            "\n",
            "Epoch 5\n",
            "-------------------------------\n",
            "loss: 0.204757  [   64/60000]\n",
            "loss: 0.316897  [ 6464/60000]\n",
            "loss: 0.211754  [12864/60000]\n",
            "loss: 0.212266  [19264/60000]\n",
            "loss: 0.336645  [25664/60000]\n",
            "loss: 0.300412  [32064/60000]\n",
            "loss: 0.216770  [38464/60000]\n",
            "loss: 0.331589  [44864/60000]\n",
            "loss: 0.277918  [51264/60000]\n",
            "loss: 0.339851  [57664/60000]\n",
            "Test Error: \n",
            " Accuracy: 87.0%, Avg loss: 0.349477 \n",
            "\n",
            "Done!\n"
          ]
        }
      ]
    },
    {
      "cell_type": "code",
      "source": [],
      "metadata": {
        "id": "SCIRdlMHvPn4"
      },
      "execution_count": null,
      "outputs": []
    },
    {
      "cell_type": "markdown",
      "source": [
        "accuracy with 5 epochs: 64% [original code]<br>\n",
        "with 10 epochs: 70.9% <br>\n",
        "by adding one extra hidden layer: 65%<br>\n",
        "changing optimizer to Adam : 87%\n"
      ],
      "metadata": {
        "id": "1p4FafgWPI34"
      }
    },
    {
      "cell_type": "code",
      "source": [
        "torch.save(model.state_dict(), \"model.pth\")\n",
        "print(\"Saved PyTorch Model State to model.pth\")"
      ],
      "metadata": {
        "colab": {
          "base_uri": "https://localhost:8080/"
        },
        "id": "mlGnriWpEDVv",
        "outputId": "8f686344-4805-430b-9063-73f4b642f89e"
      },
      "execution_count": null,
      "outputs": [
        {
          "output_type": "stream",
          "name": "stdout",
          "text": [
            "Saved PyTorch Model State to model.pth\n"
          ]
        }
      ]
    },
    {
      "cell_type": "code",
      "source": [
        "model = NeuralNetwork().to(device)\n",
        "model.load_state_dict(torch.load(\"model.pth\"))"
      ],
      "metadata": {
        "colab": {
          "base_uri": "https://localhost:8080/"
        },
        "id": "Z6NmWsuAEFj3",
        "outputId": "dcb4b621-7343-4580-e37f-6e812bf245bb"
      },
      "execution_count": null,
      "outputs": [
        {
          "output_type": "execute_result",
          "data": {
            "text/plain": [
              "<All keys matched successfully>"
            ]
          },
          "metadata": {},
          "execution_count": 10
        }
      ]
    },
    {
      "cell_type": "code",
      "source": [
        "classes = [\n",
        "    \"T-shirt/top\",\n",
        "    \"Trouser\",\n",
        "    \"Pullover\",\n",
        "    \"Dress\",\n",
        "    \"Coat\",\n",
        "    \"Sandal\",\n",
        "    \"Shirt\",\n",
        "    \"Sneaker\",\n",
        "    \"Bag\",\n",
        "    \"Ankle boot\",\n",
        "]\n",
        "\n",
        "model.eval()\n",
        "x, y = test_data[0][0], test_data[0][1]\n",
        "with torch.no_grad():\n",
        "    x = x.to(device)\n",
        "    pred = model(x)\n",
        "    predicted, actual = classes[pred[0].argmax(0)], classes[y]\n",
        "    print(f'Predicted: \"{predicted}\", Actual: \"{actual}\"')"
      ],
      "metadata": {
        "colab": {
          "base_uri": "https://localhost:8080/"
        },
        "id": "BVKrlketEHmt",
        "outputId": "bed33a05-b7fa-4b87-f642-d608ce85e892"
      },
      "execution_count": null,
      "outputs": [
        {
          "output_type": "stream",
          "name": "stdout",
          "text": [
            "Predicted: \"Ankle boot\", Actual: \"Ankle boot\"\n"
          ]
        }
      ]
    },
    {
      "cell_type": "markdown",
      "source": [
        "<br>\n",
        "<br>\n",
        "<br>\n",
        "<br>\n",
        "<br>"
      ],
      "metadata": {
        "id": "5rD5oVk3slUc"
      }
    }
  ]
}